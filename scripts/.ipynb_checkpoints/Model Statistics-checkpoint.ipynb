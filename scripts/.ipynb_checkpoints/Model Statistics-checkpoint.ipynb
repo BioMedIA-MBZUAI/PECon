{
 "cells": [
  {
   "cell_type": "code",
   "execution_count": 1,
   "metadata": {
    "collapsed": true
   },
   "outputs": [],
   "source": [
    "import torch\n",
    "import torch.nn as nn\n",
    "from torch.autograd import Variable\n",
    "import numpy as np\n",
    "import matplotlib.pyplot as plt\n",
    "from matplotlib.pyplot import figure\n",
    "from delong import delong_roc_variance\n",
    "import json \n",
    "import sklearn\n",
    "from scipy import stats\n",
    "from statsmodels.stats.proportion import proportion_confint\n",
    "import scipy\n",
    "import seaborn\n",
    "\n",
    "%matplotlib inline"
   ]
  },
  {
   "cell_type": "code",
   "execution_count": 20,
   "metadata": {
    "collapsed": true
   },
   "outputs": [],
   "source": [
    "models = ['clean4prev', 'dirty5kin', 'dirty4prev', 'exp6-1']\n",
    "model_num = 1\n",
    "SUBSEG = False"
   ]
  },
  {
   "cell_type": "code",
   "execution_count": 21,
   "metadata": {
    "collapsed": true
   },
   "outputs": [],
   "source": [
    "# Validation Set\n",
    "valid_folder = 'all_valid' if SUBSEG else 'valids'\n",
    "test_folder = 'all_test' if SUBSEG else 'tests'\n",
    "\n",
    "file = f'Dec18/{valid_folder}/{models[model_num]}_inputs.npy'\n",
    "X = np.load(file).astype(np.float32)\n",
    "y = np.load(f'Dec18/{valid_folder}/labels.npy').astype(np.float32)\n",
    "\n",
    "# Test set\n",
    "file = f'Dec18/{test_folder}/{models[model_num]}_inputs.npy'\n",
    "X_test = np.load(file).astype(np.float32)\n",
    "y_test = np.load(f'Dec18/{test_folder}/labels.npy').astype(np.float32)"
   ]
  },
  {
   "cell_type": "code",
   "execution_count": 22,
   "metadata": {},
   "outputs": [
    {
     "name": "stdout",
     "output_type": "stream",
     "text": [
      "(167, 84) (167,)\n",
      "(169, 48) (169,)\n"
     ]
    }
   ],
   "source": [
    "print (X.shape, y.shape)\n",
    "print (X_test.shape, y_test.shape)"
   ]
  },
  {
   "cell_type": "markdown",
   "metadata": {},
   "source": [
    "# Statistics"
   ]
  },
  {
   "cell_type": "code",
   "execution_count": 23,
   "metadata": {
    "collapsed": true
   },
   "outputs": [],
   "source": [
    "from sklearn.metrics import (roc_auc_score, accuracy_score, f1_score, roc_curve, average_precision_score,\n",
    "                             recall_score, precision_score, cohen_kappa_score, precision_recall_curve)\n",
    "\n",
    "def auc_ci_delong(labels_list, probs_list):\n",
    "    alpha = .95\n",
    "    auc, auc_cov = delong_roc_variance(labels_list, probs_list)\n",
    "    auc_std = np.sqrt(auc_cov)\n",
    "    lower_upper_q = np.abs(np.array([0, 1]) - (1 - alpha) / 2)\n",
    "\n",
    "    CI = stats.norm.ppf(lower_upper_q, loc=auc, scale=auc_std)\n",
    "    CI[CI > 1] = 1\n",
    "\n",
    "    print (\"DeLong AUC : {:0.3f} [{:0.3f}, {:0.3f}]\".format(auc, CI[0], CI[-1]))\n",
    "    \n",
    "def auc_ci_bootstrap(labels_list, probs_list):\n",
    "    n_bootstraps = 1000\n",
    "    rng_seed = 42  # control reproducibility\n",
    "    bootstrapped_scores = []\n",
    "\n",
    "    rng = np.random.RandomState(rng_seed)\n",
    "    for i in range(n_bootstraps):\n",
    "        indices = rng.random_integers(0, len(probs_list) - 1, len(probs_list))\n",
    "        if len(np.unique(labels_list[indices])) < 2:\n",
    "            continue\n",
    "\n",
    "        score = roc_auc_score(labels_list[indices], probs_list[indices])\n",
    "        bootstrapped_scores.append(score)\n",
    "    scores = sorted(bootstrapped_scores)\n",
    "    skip = n_bootstraps // 20\n",
    "    CI = scores[skip:n_bootstraps - skip]\n",
    "    \n",
    "    print (\"Boostrap AUC : {:0.3f} [{:0.3f}, {:0.3f}]\".format(np.mean(CI), CI[0], CI[-1]))\n",
    "\n",
    "def calc_metrics(labels_list, probs_list, threshold=0.5, roc=True):\n",
    "    print ('Threshold = %.2f' % threshold)\n",
    "    preds_list = (probs_list > threshold)\n",
    "    N = len(labels_list)\n",
    "    \n",
    "    conf = sklearn.metrics.confusion_matrix(labels_list, preds_list)\n",
    "    tn, fp, fn, tp = conf.ravel()\n",
    "\n",
    "    print (conf)\n",
    "    \n",
    "    # Metrics\n",
    "    auc = roc_auc_score(labels_list, probs_list)\n",
    "    print (\"AUROC:\\t\\t%.3f\" % (auc))\n",
    "    auc_ci_bootstrap(labels_list, probs_list)\n",
    "    auc_ci_delong(labels_list, probs_list)\n",
    "    \n",
    "    acc = accuracy_score(labels_list, preds_list)\n",
    "    acc_low, acc_hi = proportion_confint(tn + tp, N, method=\"wilson\", alpha=0.05)\n",
    "    print (\"Accuracy:\\t%.2f [%.2f, %.2f]\" % (100 * acc, 100 * acc_low, 100 * acc_hi))\n",
    "    \n",
    "    spec = tn / (tn + fp)\n",
    "    spec_low, spec_hi = proportion_confint(tn, tn+fp, method=\"wilson\", alpha=0.05)\n",
    "    print (\"Specificity:\\t%.2f [%.2f, %.2f]\" % (100 * spec, 100 * spec_low, 100 * spec_hi))\n",
    "    \n",
    "    recall = recall_score(labels_list, preds_list)\n",
    "    rec_low, rec_hi = proportion_confint(tp, tp+fn, method=\"wilson\", alpha=0.05)\n",
    "    print (\"Sens./Recall:\\t%.2f [%.2f, %.2f]\" % (100 * recall, 100 * rec_low, 100 * rec_hi))\n",
    "    \n",
    "    precision = precision_score(labels_list, preds_list)\n",
    "    prec_low, prec_hi = proportion_confint(tp, tp+fp, method=\"wilson\", alpha=0.05)\n",
    "    print (\"Prec./ PPV:\\t%.2f [%.2f, %.2f]\" % (100 * precision, 100 * prec_low, 100 * prec_hi))\n",
    "    \n",
    "    npv = tn / (tn + fn)\n",
    "    npv_low, npv_hi = proportion_confint(tn, tn+fn, method=\"wilson\", alpha=0.05)\n",
    "    print (\"NPV:\\t\\t%.2f [%.2f, %.2f]\" % (100 * npv, 100 * npv_low, 100 * npv_hi))\n",
    "      \n",
    "    f1 = f1_score(labels_list, preds_list)\n",
    "    f1_low, f1_hi = proportion_confint(tp, (tp + fp + tp + fn) / 2, method=\"wilson\", alpha=0.05)\n",
    "    print (\"F1 Score:\\t%.2f [%.2f, %.2f]\" % (100 * f1, 100 * f1_low, 100 * f1_hi))\n",
    "        \n",
    "    auprc = average_precision_score(labels_list, probs_list)\n",
    "    print (\"AUPRC:\\t\\t%.3f\" % auprc)\n",
    "    print (\"Cohen Kappa:\\t%.3f\" % (cohen_kappa_score(labels_list, preds_list)))\n",
    "    \n",
    "    fpr_test, tpr_test, _ = roc_curve(labels_list, probs_list)\n",
    "    \n",
    "    prec_test, rec_test, _ = precision_recall_curve(labels_list, probs_list)\n",
    "    \n",
    "    if roc:\n",
    "        figure(num=None, figsize=(6, 4), dpi=80, facecolor='w', edgecolor='b')\n",
    "        plt.plot(fpr_test, tpr_test)\n",
    "        plt.title('Receiver-Operating Curve')\n",
    "        plt.xlabel(\"False-Positive Result Rate\", fontsize='large')\n",
    "        plt.ylabel(\"True-Positive Result Rate\", fontsize='large')\n",
    "        plt.legend([\"AUC %.3f\" % auc], loc=4, fontsize='large')\n",
    "    else:\n",
    "        figure(num=None, figsize=(6, 4), dpi=80, facecolor='w', edgecolor='b')\n",
    "        prec_test, rec_test = list(prec_test), list(rec_test)\n",
    "        prec_test.append(0), rec_test.append(0)\n",
    "        prec_test.append(0), rec_test.append(1)\n",
    "        plt.plot(rec_test, prec_test)\n",
    "        \n",
    "        plt.title('Precision-Recall Curve')\n",
    "        plt.xlabel(\"Recall\", fontsize='large')\n",
    "        plt.ylabel(\"Precision\", fontsize='large')\n",
    "        plt.fill(rec_test, prec_test)\n",
    "        plt.xlim((0, 1))\n",
    "        plt.ylim((0, 1))\n",
    "        plt.legend([\"AUPRC %.3f\" % auprc], loc=3, fontsize='large')\n",
    "    \n",
    "    \n",
    "def metrics_wilson(labels_list, probs_list, threshold):\n",
    "    N = len(labels_list)\n",
    "    preds_list = (probs_list > threshold)\n",
    "    tn, fp, fn, tp = sklearn.metrics.confusion_matrix(labels_list, preds_list).ravel()\n",
    "    precision = proportion_confint(tp, tp+fp, method=\"wilson\", alpha=0.05)\n",
    "    recall = proportion_confint(tp, tp+fn, method=\"wilson\", alpha=0.05)\n",
    "#     sens = binom.binom_confint(x=tp, n=tp+fn, methods=\"wilson\", conf_level=0.95)\n",
    "#     spec = binom.binom_confint(x=tn, n=tn+fp, methods=\"wilson\", conf_level=0.95)\n",
    "#     acc = binom.binom_confint(x=tp+tn, n=N, methods=\"wilson\", conf_level=0.95)\n",
    "    print (precision)\n",
    "    \n"
   ]
  },
  {
   "cell_type": "markdown",
   "metadata": {},
   "source": [
    "# Test Set"
   ]
  },
  {
   "cell_type": "code",
   "execution_count": 24,
   "metadata": {},
   "outputs": [
    {
     "name": "stdout",
     "output_type": "stream",
     "text": [
      "dirty5kin\n",
      "Threshold = 0.70\n",
      "[[75  9]\n",
      " [32 53]]\n",
      "AUROC:\t\t0.840\n",
      "Boostrap AUC : 0.840 [0.786, 0.892]\n",
      "DeLong AUC : 0.840 [0.779, 0.902]\n",
      "Accuracy:\t75.74 [68.75, 81.58]\n",
      "Specificity:\t89.29 [80.88, 94.26]\n",
      "Sens./Recall:\t62.35 [51.73, 71.91]\n",
      "Prec./ PPV:\t85.48 [74.66, 92.17]\n",
      "NPV:\t\t70.09 [60.85, 77.95]\n",
      "F1 Score:\t72.11 [60.96, 81.07]\n",
      "AUPRC:\t\t0.867\n",
      "Cohen Kappa:\t0.516\n"
     ]
    },
    {
     "data": {
      "image/png": "[encoded data removed]",
      "text/plain": [
       "<matplotlib.figure.Figure at 0x1144327f0>"
      ]
     },
     "metadata": {},
     "output_type": "display_data"
    }
   ],
   "source": [
    "print (models[model_num])\n",
    "x_test = X_test.max(1)\n",
    "calc_metrics(y_test, x_test, threshold=0.7, roc=False)"
   ]
  },
  {
   "cell_type": "markdown",
   "metadata": {},
   "source": [
    "# Validation Set"
   ]
  },
  {
   "cell_type": "code",
   "execution_count": 25,
   "metadata": {},
   "outputs": [
    {
     "name": "stdout",
     "output_type": "stream",
     "text": [
      "dirty5kin\n",
      "Boostrap AUC : 0.785 [0.721, 0.845]\n",
      "DeLong AUC : 0.786 [0.712, 0.859]\n",
      "Threshold = 0.70\n",
      "[[80  5]\n",
      " [33 49]]\n",
      "AUROC:\t\t0.786\n",
      "Boostrap AUC : 0.785 [0.721, 0.845]\n",
      "DeLong AUC : 0.786 [0.712, 0.859]\n",
      "Accuracy:\t77.25 [70.32, 82.95]\n",
      "Specificity:\t94.12 [86.96, 97.46]\n",
      "Sens./Recall:\t59.76 [48.94, 69.70]\n",
      "Prec./ PPV:\t90.74 [80.09, 95.98]\n",
      "NPV:\t\t70.80 [61.84, 78.39]\n",
      "F1 Score:\t72.06 [60.44, 81.32]\n",
      "AUPRC:\t\t0.843\n",
      "Cohen Kappa:\t0.542\n"
     ]
    },
    {
     "data": {
      "image/png": "[encoded data removed]",
      "text/plain": [
       "<matplotlib.figure.Figure at 0x114506c50>"
      ]
     },
     "metadata": {},
     "output_type": "display_data"
    }
   ],
   "source": [
    "print (models[model_num])\n",
    "x = X.max(1)\n",
    "auc_ci_bootstrap(y, x)\n",
    "auc_ci_delong(y, x)\n",
    "calc_metrics(y, x, threshold=0.7)"
   ]
  },
  {
   "cell_type": "code",
   "execution_count": 26,
   "metadata": {},
   "outputs": [
    {
     "data": {
      "text/plain": [
       "<matplotlib.legend.Legend at 0x114307668>"
      ]
     },
     "execution_count": 26,
     "metadata": {},
     "output_type": "execute_result"
    },
    {
     "data": {
      "image/png": "[encoded data removed]",
      "text/plain": [
       "<matplotlib.figure.Figure at 0x114307ac8>"
      ]
     },
     "metadata": {},
     "output_type": "display_data"
    }
   ],
   "source": [
    "ind_pos = np.where(y == 1)\n",
    "x_pos = x[ind_pos]\n",
    "ind_neg = np.where(y == 0)\n",
    "x_neg = x[ind_neg]\n",
    "\n",
    "bins = np.linspace(0., 1., 10)\n",
    "\n",
    "plt.hist([x_pos, x_neg], bins, alpha=1.0, label=['positive', 'negative'])\n",
    "plt.legend()"
   ]
  }
 ],
 "metadata": {
  "kernelspec": {
   "display_name": "Python 3",
   "language": "python",
   "name": "python3"
  },
  "language_info": {
   "codemirror_mode": {
    "name": "ipython",
    "version": 3
   },
   "file_extension": ".py",
   "mimetype": "text/x-python",
   "name": "python",
   "nbconvert_exporter": "python",
   "pygments_lexer": "ipython3",
   "version": "3.6.3"
  }
 },
 "nbformat": 4,
 "nbformat_minor": 2
}
